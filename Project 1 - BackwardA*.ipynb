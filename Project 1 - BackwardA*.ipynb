{
  "nbformat": 4,
  "nbformat_minor": 0,
  "metadata": {
    "colab": {
      "provenance": [],
      "include_colab_link": true
    },
    "kernelspec": {
      "name": "python3",
      "display_name": "Python 3"
    },
    "language_info": {
      "name": "python"
    }
  },
  "cells": [
    {
      "cell_type": "markdown",
      "metadata": {
        "id": "view-in-github",
        "colab_type": "text"
      },
      "source": [
        "<a href=\"https://colab.research.google.com/github/rp1177/CS440---Intro-to-AI/blob/main/BackwardA.ipynb\" target=\"_parent\"><img src=\"https://colab.research.google.com/assets/colab-badge.svg\" alt=\"Open In Colab\"/></a>"
      ]
    },
    {
      "cell_type": "code",
      "execution_count": null,
      "metadata": {
        "id": "0HX_IlDnmfeY"
      },
      "outputs": [],
      "source": [
        "import numpy as np\n",
        "import random\n",
        "from collections import deque\n",
        "from matplotlib import pyplot\n",
        "import copy"
      ]
    },
    {
      "cell_type": "code",
      "source": [
        "class Maze:\n",
        "    def __init__(self):\n",
        "        pass\n",
        "\n",
        "    def generateMaze(self, dimensions):\n",
        "        mazeArray = np.empty(dimensions)\n",
        "        for i in range(mazeArray.shape[0]):\n",
        "            for j in range(mazeArray.shape[1]):\n",
        "                if (random.random() > .70):\n",
        "                    mazeArray[i][j] = 0 # blocked\n",
        "                else:\n",
        "                    mazeArray[i][j] = 1 # unblocked\n",
        "\n",
        "        # remove block from upper left/lower right corner\n",
        "        mazeArray[0][0] = 1\n",
        "        mazeArray[mazeArray.shape[0]-1][mazeArray.shape[1]-1] = 1\n",
        "\n",
        "        return mazeArray\n",
        "\n",
        "    def validateMaze(self, maze, goalX, goalY): #DFS\n",
        "        path = deque()\n",
        "        visited = dict()\n",
        "\n",
        "        path.append((0,0))\n",
        "\n",
        "        while path:\n",
        "            current = path.pop()\n",
        "            if (current[0] == goalX and current[1] == goalY):\n",
        "                return True\n",
        "            if (visited.get(current) != None):\n",
        "                continue\n",
        "            else:\n",
        "                visited[current] = True\n",
        "\n",
        "                #UP\n",
        "                if current[0]-1 > 0 and maze[current[0]-1][current[1]] == 1:\n",
        "                    path.append((current[0]-1, current[1]))\n",
        "                #DOWN\n",
        "                if current[0]+1 < maze.shape[0] and maze[current[0]+1][current[1]] == 1:\n",
        "                    path.append((current[0]+1, current[1]))\n",
        "                #LEFT\n",
        "                if current[1]-1 > 0 and maze[current[0]][current[1]-1] == 1:\n",
        "                    path.append((current[0], current[1]-1))\n",
        "                #RIGHT\n",
        "                if current[1]+1 < maze.shape[1] and maze[current[0]][current[1]+1] == 1:\n",
        "                    path.append((current[0], current[1]+1))\n",
        "\n",
        "        return False\n",
        "\n",
        "\n",
        "    def printMaze(self, maze):\n",
        "        fig, ax = pyplot.subplots()\n",
        "        pyplot.axis('off')\n",
        "        ax.imshow(maze)\n",
        "        pyplot.show()\n",
        "\n",
        "    def printMazePath(self, maze, x_coords, y_coords):\n",
        "        fig, ax = pyplot.subplots()\n",
        "        pyplot.axis('off')\n",
        "        #print('ptint path')\n",
        "        # pyplot.legend()\n",
        "        ax.imshow(maze)\n",
        "        ax.plot(y_coords, x_coords, color = 'red')\n",
        "        pyplot.show()"
      ],
      "metadata": {
        "id": "KmNnds9Xmq6l"
      },
      "execution_count": null,
      "outputs": []
    },
    {
      "cell_type": "code",
      "source": [
        "import math\n",
        "import heapq\n",
        "\n",
        "class A_Star_Cell:\n",
        "    def __init__(self):\n",
        "        self.g = math.inf\n",
        "        self.h = math.inf\n",
        "        self.f = math.inf\n",
        "        self.gd = math.inf\n",
        "\n",
        "    def setGAndFValues(self, g):\n",
        "        self.g = g\n",
        "        #if initialRun == False:\n",
        "         # self.h = self.gd - self.g\n",
        "        self.f = self.g + self.h"
      ],
      "metadata": {
        "id": "lnJX7jiym9hs"
      },
      "execution_count": null,
      "outputs": []
    },
    {
      "cell_type": "code",
      "source": [
        "class Agent2:\n",
        "    def __init__(self):\n",
        "        self.curr = (0,0)\n",
        "        self.next = (0,0)\n",
        "        self.path = []\n",
        "        self.savePath = []\n",
        "\n",
        "    def get_path(self):\n",
        "        return self.path\n",
        "\n",
        "    def set_path(self, newPath):\n",
        "        self.path = newPath\n",
        "\n",
        "    def setHeuristics(self, heuristicsMap, start, target, dimensions):\n",
        "        for i in range(0, dimensions[0]):\n",
        "            for j in range(0, dimensions[1]):\n",
        "                heuristicsMap[i][j].h = np.abs(i-target[0])+np.abs(j-target[1])\n",
        "\n",
        "    def adaptiveA(self):#heuristicsMap, start, target, dimensions):\n",
        "        path = self.path\n",
        "        x = len(path)-1\n",
        "        for k in range(0, len(path)):\n",
        "            #print(path[k], x)\n",
        "            #heuristicsMap[i][j].gd = x\n",
        "            x = x - 1\n",
        "\n",
        "    def lookUp(self, currentMaze, originalMaze):\n",
        "        currentX = self.curr[0]\n",
        "        currentY = self.curr[1]\n",
        "        #UP\n",
        "        if currentX-1 > 0 and currentMaze[currentX-1][currentY]!=3:\n",
        "            currentMaze[currentX-1][currentY] = originalMaze[currentX-1][currentY]\n",
        "        #DOWN\n",
        "        if currentX+1 < maze.shape[0] and currentMaze[currentX+1][currentY] != 3:\n",
        "            currentMaze[currentX+1][currentY] = originalMaze[currentX+1][currentY]\n",
        "        #LEFT\n",
        "        if currentY-1 > 0 and currentMaze[currentX][currentY-1]!= 3:\n",
        "            currentMaze[currentX][currentY-1] = originalMaze[currentX][currentY-1]\n",
        "        #RIGHT\n",
        "        if currentY+1 < maze.shape[1] and currentMaze[currentX][currentY+1] != 3 :\n",
        "            currentMaze[currentX][currentY+1] = originalMaze[currentX][currentY+1]\n",
        "\n",
        "        return currentMaze\n",
        "\n",
        "\n",
        "    def A_Star(self, maze, goal_cell, start_cell):\n",
        "        size = maze.shape[0]\n",
        "        start_x = start_cell[0]\n",
        "        start_y = start_cell[1]\n",
        "        goal_x = goal_cell[0]\n",
        "        goal_y = goal_cell[1]\n",
        "        heuristicsMap = np.array([[A_Star_Cell() for _ in range(maze.shape[0])] for _ in range(maze.shape[1])])\n",
        "        #if counter == 0:\n",
        "        self.setHeuristics(heuristicsMap, start_cell, goal_cell, maze.shape)\n",
        "        heuristicsMap[start_x][start_y].setGAndFValues(0)\n",
        "        #else:\n",
        "        #  self.adaptiveA(heuristicsMap, start_cell, goal_cell, maze.shape)\n",
        "        #  heuristicsMap[start_x][start_y].setGAndFValues(0, False)\n",
        "        openList = [] #we will use the heapq module to insert elements with priority in this list\n",
        "        visited = {}\n",
        "        closed = {}\n",
        "        parent = {}\n",
        "        heapq.heappush(openList, (heuristicsMap[start_x][start_y].f, heuristicsMap[start_x][start_y].h, (start_x, start_y)))\n",
        "        visited[(start_x, start_y)] = True\n",
        "        while openList:\n",
        "            currentMazeNode = heapq.heappop(openList)[-1]\n",
        "            currentHeuristicCell = heuristicsMap[currentMazeNode[0]][currentMazeNode[1]]\n",
        "            closed[currentMazeNode] = True\n",
        "            if currentMazeNode[0] == goal_x and currentMazeNode[1] == goal_y:\n",
        "                path = []\n",
        "                current = currentMazeNode\n",
        "                while (current[0], current[1]) != (start_x, start_y):\n",
        "                    path.append([current[0], current[1]])\n",
        "                    current = parent[(current[0], current[1])]\n",
        "                path.append([current[0],current[1]])\n",
        "                self.path = path[::-1]\n",
        "\n",
        "            children = []\n",
        "\n",
        "            for new_pos in [(0,1),(0,-1),(1,0),(-1,0)]:\n",
        "\n",
        "                node_pos = (currentMazeNode[0]+new_pos[0], currentMazeNode[1]+new_pos[1])\n",
        "\n",
        "                if(node_pos[0] >= size or node_pos[1] >= size or node_pos[0] < 0 or node_pos[1] < 0):\n",
        "                    continue\n",
        "\n",
        "                if(maze[node_pos[0]][node_pos[1]] == 0):\n",
        "                    continue\n",
        "\n",
        "                if((node_pos[0], node_pos[1]) in closed):\n",
        "                    continue\n",
        "\n",
        "                if((node_pos[0], node_pos[1]) in visited):\n",
        "                    if currentHeuristicCell.g + 1 + heuristicsMap[node_pos[0]][node_pos[1]].h < heuristicsMap[node_pos[0]][node_pos[1]].f:\n",
        "                        openList.remove((heuristicsMap[node_pos[0]][node_pos[1]].f, heuristicsMap[node_pos[0]][node_pos[1]].h, (node_pos[0], node_pos[1])))\n",
        "                        heuristicsMap[node_pos[0]][node_pos[1]].setGAndFValues(currentHeuristicCell.g+1)\n",
        "                        heapq.heappush(openList, (heuristicsMap[node_pos[0]][node_pos[1]].f, heuristicsMap[node_pos[0]][node_pos[1]].h, (node_pos[0], node_pos[1])))\n",
        "                        parent[(node_pos[0],node_pos[1])] = currentMazeNode\n",
        "                else:\n",
        "                    heuristicsMap[node_pos[0]][node_pos[1]].setGAndFValues(currentHeuristicCell.g+1)\n",
        "                    children.append((node_pos[0], node_pos[1]))\n",
        "                    parent[(node_pos[0],node_pos[1])] = currentMazeNode\n",
        "\n",
        "            if(children == []):\n",
        "                continue\n",
        "\n",
        "            for child in children:\n",
        "                heapq.heappush(openList, (heuristicsMap[child[0]][child[1]].f,heuristicsMap[child[0]][child[1]].h, (child[0], child[1])))\n",
        "                visited[(child[0], child[1])] = True\n",
        "\n",
        "    def move(self, currentMaze, originalMaze, route):\n",
        "        if not self.path:\n",
        "            return 1\n",
        "        #print(self.path)\n",
        "        self.path = self.path[::-1]\n",
        "        #print(self.path)\n",
        "        #print(len(self.path))\n",
        "        for i in range(0,len(self.path)):\n",
        "            step = tuple(self.path[i])\n",
        "            #print(step)\n",
        "            self.curr = step\n",
        "            route.append(step)\n",
        "            if step == (currentMaze.shape[0]-1, currentMaze.shape[1]-1): #reached goal, win\n",
        "                return 1\n",
        "            currentMaze[step] = 3 #continue\n",
        "            self.next = tuple(self.path[i+1])\n",
        "            #print(self.next)\n",
        "            if originalMaze[self.next[0]][self.next[1]] == 0:\n",
        "                return 5;\n",
        "\n"
      ],
      "metadata": {
        "id": "ZHzsE2kenM5K"
      },
      "execution_count": null,
      "outputs": []
    },
    {
      "cell_type": "code",
      "source": [
        "if __name__==\"__main__\":\n",
        "\n",
        "    #This is the maze size\n",
        "    dimensions = [10, 10]\n",
        "\n",
        "    myMaze = Maze()\n",
        "\n",
        "    #Generate 100 valid mazes\n",
        "    mazeList = []\n",
        "    while len(mazeList) < 5:\n",
        "        maze = myMaze.generateMaze(dimensions)\n",
        "        if myMaze.validateMaze(maze, dimensions[0]-1, dimensions[1]-1):\n",
        "            mazeList.append(maze)\n",
        "\n",
        "\n",
        "    # Initialize Agent 2\n",
        "    counter = 0\n",
        "    for originalMaze in mazeList.copy():\n",
        "        myAgent2 = Agent2()\n",
        "        myMaze.printMaze(originalMaze)\n",
        "        currentMaze = np.ones((dimensions[0], dimensions[1]))\n",
        "        route = []\n",
        "        status = 0\n",
        "        while status != 1:\n",
        "            currentMaze = myAgent2.lookUp(currentMaze, originalMaze)\n",
        "            #myMaze.printMaze(currentMaze)\n",
        "            myAgent2.A_Star(currentMaze, (myAgent2.curr[0],myAgent2.curr[1]), (dimensions[0]-1, dimensions[1]-1))\n",
        "            #print(\"A* called\")\n",
        "            result = myAgent2.move(currentMaze, originalMaze, route)\n",
        "            #print(result);\n",
        "            # if result == 5:\n",
        "            #     print(\"Reach blocked\");\n",
        "            status = result\n",
        "\n",
        "        x_coords = []\n",
        "        y_coords = []\n",
        "        #print(route)\n",
        "\n",
        "\n",
        "        for i in (range(0,len(route))):\n",
        "\n",
        "          x = route[i][0]\n",
        "          y = route[i][1]\n",
        "          #print(x)\n",
        "          #print(y)\n",
        "\n",
        "          x_coords.append(x)\n",
        "          y_coords.append(y)\n",
        "        myMaze.printMazePath(originalMaze, x_coords, y_coords)\n",
        "\n",
        "\n",
        "        #myMaze.printMaze(originalMaze)"
      ],
      "metadata": {
        "id": "BFeuFspWnTmK",
        "colab": {
          "base_uri": "https://localhost:8080/",
          "height": 1000
        },
        "outputId": "03b3132f-6ef1-47b5-ac90-ff8573c02412"
      },
      "execution_count": null,
      "outputs": [
        {
          "output_type": "display_data",
          "data": {
            "text/plain": [
              "<Figure size 432x288 with 1 Axes>"
            ],
            "image/png": "[encoded data removed]"
          },
          "metadata": {
            "needs_background": "light"
          }
        },
        {
          "output_type": "display_data",
          "data": {
            "text/plain": [
              "<Figure size 432x288 with 1 Axes>"
            ],
            "image/png": "[encoded data removed]"
          },
          "metadata": {
            "needs_background": "light"
          }
        },
        {
          "output_type": "display_data",
          "data": {
            "text/plain": [
              "<Figure size 432x288 with 1 Axes>"
            ],
            "image/png": "[encoded data removed]"
          },
          "metadata": {
            "needs_background": "light"
          }
        },
        {
          "output_type": "display_data",
          "data": {
            "text/plain": [
              "<Figure size 432x288 with 1 Axes>"
            ],
            "image/png": "[encoded data removed]"
          },
          "metadata": {
            "needs_background": "light"
          }
        },
        {
          "output_type": "display_data",
          "data": {
            "text/plain": [
              "<Figure size 432x288 with 1 Axes>"
            ],
            "image/png": "[encoded data removed]"
          },
          "metadata": {
            "needs_background": "light"
          }
        },
        {
          "output_type": "display_data",
          "data": {
            "text/plain": [
              "<Figure size 432x288 with 1 Axes>"
            ],
            "image/png": "[encoded data removed]"
          },
          "metadata": {
            "needs_background": "light"
          }
        },
        {
          "output_type": "display_data",
          "data": {
            "text/plain": [
              "<Figure size 432x288 with 1 Axes>"
            ],
            "image/png": "[encoded data removed]"
          },
          "metadata": {
            "needs_background": "light"
          }
        },
        {
          "output_type": "display_data",
          "data": {
            "text/plain": [
              "<Figure size 432x288 with 1 Axes>"
            ],
            "image/png": "[encoded data removed]"
          },
          "metadata": {
            "needs_background": "light"
          }
        },
        {
          "output_type": "display_data",
          "data": {
            "text/plain": [
              "<Figure size 432x288 with 1 Axes>"
            ],
            "image/png": "[encoded data removed]"
          },
          "metadata": {
            "needs_background": "light"
          }
        },
        {
          "output_type": "display_data",
          "data": {
            "text/plain": [
              "<Figure size 432x288 with 1 Axes>"
            ],
            "image/png": "[encoded data removed]"
          },
          "metadata": {
            "needs_background": "light"
          }
        }
      ]
    },
    {
      "cell_type": "code",
      "source": [],
      "metadata": {
        "id": "hn3KsixLzd68"
      },
      "execution_count": null,
      "outputs": []
    }
  ]
}
